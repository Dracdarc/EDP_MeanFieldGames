{
 "cells": [
  {
   "cell_type": "markdown",
   "metadata": {},
   "source": [
    "# Credit"
   ]
  },
  {
   "cell_type": "markdown",
   "metadata": {},
   "source": [
    "# Library"
   ]
  },
  {
   "cell_type": "code",
   "execution_count": null,
   "metadata": {},
   "outputs": [],
   "source": [
    "from MeanFieldGames import MFG\n",
    "from tools import *"
   ]
  },
  {
   "cell_type": "markdown",
   "metadata": {},
   "source": [
    "# Introduction"
   ]
  },
  {
   "cell_type": "markdown",
   "metadata": {},
   "source": [
    "We will numerically solve the Example 1.2's differential system:\n",
    "\\begin{align*}\n",
    "    &-\\partial_t u(t, x) -\\nu\\partial_x^2 u(t, x) + H_0(\\nabla u(t, x), m)(t, x) = f_0(x, m(t, x)) \\\\\n",
    "    &\\partial_t m(t, x) - \\nu\\partial_x^2 m(t, x) - \\partial_x\\left[ \\frac{m(t, \\cdot)}{(c_0 + c_1m(t, \\cdot))^\\alpha} |\\partial_x u(t, \\cdot)|^{\\beta-2} \\partial_x u(t, \\cdot)\\right](x) = 0\\\\\n",
    "    &u(T, \\cdot) = \\phi(\\cdot, m(T, \\cdot)), \\ \\ m(0, \\cdot) = m_0(\\cdot)\\\\\n",
    "\\end{align*}\n",
    "where: $H_0 : (\\mu, p) \\mapsto \\frac{1}{\\beta} \\frac{|p|^\\beta}{(c_0 + c_1\\mu)^\\alpha}$.\\\n",
    "We suppose that $f_0(x, m(x)) = \\tilde{f}_0(m(x))+g(x)$."
   ]
  },
  {
   "cell_type": "markdown",
   "metadata": {},
   "source": [
    "To do so, we will adopt a discrete approach in considering $N_T+1$ and $N_h$ time and spacial points.\\\n",
    "We set $\\Delta t = T/N_T$, $h = 1/(N_h-1), $t_n = n \\Delta t$ and $x_t = ih$.\\\n",
    "$U$ and $M$ approximate $u$ and $m$, with $u(t_n, x_i) \\simeq U_i^n$.\\\n",
    "\n",
    "We then introduce the finite differential operators:\n",
    "\\begin{align*}\n",
    "    &(D_t W)^n = \\frac{1}{\\Delta t}(W^{n+1}-W^n)\\\\\n",
    "    &(DW)_i = \\frac{1}{h}(W_{i+1}-W_i)\\\\\n",
    "    &(\\Delta_h W)_i = \\frac{1}{h^2}(2W_{i+i}-W_i-W_{i-1})\\\\\n",
    "    &(\\nabla_h W)_i = ((DW)_i, (DW)_{i-1})\n",
    "\\end{align*}\n",
    "\n",
    "It leads to the following systems:\n",
    "\\begin{align*}\n",
    "    &-(D_t U_i)^n - \\nu (\\Delta_h U^n)_i + \\tilde{H}([\\nabla_h U^n]_i, M^{n+1}_i) = g(x_i) + \\tilde{f}_0(M^{n+1}_i)\\\\\n",
    "    &U^n_{-1}=U^n_0\\\\\n",
    "    &U^n_{N_h} = U^n_{N_h-1}\\\\\n",
    "    &U^{N_T}_i = \\phi(M^{N_T}_i)\n",
    "\\end{align*}\n",
    "and\n",
    "\\begin{align*}\n",
    "    &(D_t M_i)^n - \\nu (\\Delta_h M^n)_i -\\mathcal{T}_i(U^n, M^{n+1}, \\tilde{M}^{n+1}) = 0\\\\\n",
    "    &M^n_{-1}=M^n_0\\\\\n",
    "    &M^n_{N_h} = M^n_{N_h-1}\\\\\n",
    "    &M_i^0 = \\bar{m}_0(x_i)\n",
    "\\end{align*}\n",
    "\n",
    "with:\n",
    "\\begin{align*}\n",
    "    &\\tilde{H} : ((p1 \\ p2)^T, \\mu) \\mapsto \\frac{1}{\\beta} \\frac{((p_1)_-^2 + (p_2)_+^2)^{\\beta/2}}{(c_0 + c_1\\mu)^\\alpha} \\\\\n",
    "    &\\mathcal{T}_i : (U, M, \\tilde{M}) \\mapsto \\frac{1}{h} \\left( M_i \\tilde{H}_{p_1}([\\nabla_h U]_i, \\tilde{M}_i) - M_{i-1}\\tilde{H}_{p_1}([\\nabla_h U]_{i-1}, \\tilde{M}_i) + M_{i+1} \\tilde{H}_{p_2}([\\nabla_h U]_{i+1}, \\tilde{M}_{i+1}) - M_i\\tilde{H}_{p_2}([\\nabla_h U]_i, \\tilde{M}_i) \\right)\\\\\n",
    "    &\\tilde{H}_{p_1}((p1 \\ p2)^T, \\mu) := \\partial_{p_1}\\tilde{H}((p1 \\ p2)^T, \\mu) = -(p_1)_- \\frac{((p_1)_-^2 + (p_2)_+^2)^{\\beta/2-1}}{(c_0 + c_1\\mu)^\\alpha}\\\\\n",
    "    &\\tilde{H}_{p_2}((p1 \\ p2)^T, \\mu) := \\partial_{p_2}\\tilde{H}((p1 \\ p2)^T, \\mu) = (p_2)_+ \\frac{((p_1)_-^2 + (p_2)_+^2)^{\\beta/2-1}}{(c_0 + c_1\\mu)^\\alpha}\n",
    "\\end{align*}"
   ]
  },
  {
   "cell_type": "markdown",
   "metadata": {},
   "source": []
  }
 ],
 "metadata": {
  "kernelspec": {
   "display_name": "Python 3",
   "language": "python",
   "name": "python3"
  },
  "language_info": {
   "codemirror_mode": {
    "name": "ipython",
    "version": 3
   },
   "file_extension": ".py",
   "mimetype": "text/x-python",
   "name": "python",
   "nbconvert_exporter": "python",
   "pygments_lexer": "ipython3",
   "version": "3.12.7"
  }
 },
 "nbformat": 4,
 "nbformat_minor": 2
}
