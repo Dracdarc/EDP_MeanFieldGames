{
 "cells": [
  {
   "cell_type": "markdown",
   "metadata": {},
   "source": [
    "<center>\n",
    "</br>\n",
    "<p><font size=\"5\"> M2MO - 2025</span></p>\n",
    "<p><font size=\"4\">  UE PDE & Numerical Methods </font></p>\n",
    "<p></p>\n",
    "<p><font size=\"5\">  Project - Mean Field Games with Congestion Effects </font></p>\n",
    "\n",
    "**<p><font size=\"5\"> Nathan Sanglier, Ronan Pécheul </font></p>**\n",
    "</p></br>\n",
    "</p>\n",
    "</center>\n",
    "\n",
    "---------------------------"
   ]
  },
  {
   "cell_type": "markdown",
   "metadata": {},
   "source": [
    "## <span style=\"color:#00B8DE\">0 - Imports & Utils </span>"
   ]
  },
  {
   "cell_type": "code",
   "execution_count": null,
   "metadata": {},
   "outputs": [],
   "source": [
    "import  numpy                   as      np\n",
    "import  matplotlib.pyplot       as      plt\n",
    "import  matplotlib.animation    as      animation\n",
    "from    IPython.display         import  HTML\n",
    "from    math                    import  sqrt, pi\n",
    "from    tqdm                    import  tqdm\n",
    "from    scipy.sparse.linalg     import  spsolve\n",
    "from    scipy.sparse            import  csr_matrix"
   ]
  },
  {
   "cell_type": "code",
   "execution_count": null,
   "metadata": {},
   "outputs": [],
   "source": [
    "def contour_plot(MF_res, T, Nt, Nh):\n",
    "    '''\n",
    "    Returns a contour plot of the solutions u and m of the discrete mean-field problem.\n",
    "    '''\n",
    "    h, dt       = 1/(Nh-1), T/Nt\n",
    "    x, t        = np.arange(0, Nh)*h, np.arange(0, Nt+1)*dt\n",
    "    fig, axs    = plt.subplots(1, 2, figsize=(14, 4))\n",
    "    cont1       = axs[0].contour(x, t, MF_res[:, :Nh], levels=50, cmap=\"viridis\")\n",
    "    cont2       = axs[1].contour(x, t, MF_res[:, Nh:], levels=50, cmap=\"viridis\")\n",
    "    axs[0].grid()\n",
    "    axs[1].grid()\n",
    "    plt.colorbar(cont1)\n",
    "    plt.colorbar(cont2)\n",
    "    axs[0].set_xlabel(\"x\")\n",
    "    axs[1].set_xlabel(\"x\")\n",
    "    axs[0].set_ylabel(\"t\")\n",
    "    axs[0].set_title(\"contour lines of u\")\n",
    "    axs[1].set_title(\"contour lines of m\")\n",
    "    return fig"
   ]
  },
  {
   "cell_type": "code",
   "execution_count": null,
   "metadata": {},
   "outputs": [],
   "source": [
    "def evolution_video(MF_res, T, Nt, Nh):\n",
    "    '''\n",
    "    Returns a video of the evolution of the solutions u and m of the discrete mean-field problem.\n",
    "    '''\n",
    "    plt.close('all')\n",
    "    h, dt   = 1/(Nh-1), T/Nt\n",
    "    x       = np.arange(0, Nh)*h\n",
    "    fig, ax = plt.subplots(1, 1, figsize=(8, 4))\n",
    "    u       = ax.plot(x, MF_res[0, :Nh], label='u')[0]\n",
    "    m       = ax.plot(x, MF_res[0, Nh:], label='m')[0]\n",
    "    ax.set_title(f\"t = {0*dt:.2f}\")\n",
    "    ax.grid()\n",
    "    ax.legend()\n",
    "    ax.set_xlabel(\"x\")\n",
    "    ax.set_ylabel(\"value\")\n",
    "    \n",
    "    def update(n):\n",
    "        u.set_ydata(MF_res[n, :Nh])\n",
    "        m.set_ydata(MF_res[n, Nh:])\n",
    "        ax.set_title(f\"t = {n*dt:.2f}\")\n",
    "        return u, m\n",
    "    \n",
    "    video = animation.FuncAnimation(fig, update, frames=Nt+1, blit=True, interval=100, repeat=False)\n",
    "    plt.close(fig)\n",
    "    return video"
   ]
  },
  {
   "cell_type": "markdown",
   "metadata": {},
   "source": [
    "## <span style=\"color:#00B8DE\">I - Mean Field Problem Resolution </span>"
   ]
  },
  {
   "cell_type": "code",
   "execution_count": null,
   "metadata": {},
   "outputs": [],
   "source": [
    "def m0(x):\n",
    "    return sqrt(300/pi) * np.exp(-300*(x-0.2)**2)\n",
    "\n",
    "def m0_bar(x):\n",
    "    return m0(x)\n",
    "\n",
    "def phi(x):\n",
    "    return -np.exp(-40*(x-0.7)**2)\n",
    "\n",
    "def g(x):\n",
    "    return 0"
   ]
  },
  {
   "cell_type": "code",
   "execution_count": null,
   "metadata": {},
   "outputs": [],
   "source": [
    "def pos(x):\n",
    "    return np.maximum(x, 0)\n",
    "def neg(x):\n",
    "    return -np.minimum(x, 0)\n",
    "\n",
    "\n",
    "def Htilde(p1, p2, mu, beta, c0, c1, alpha):\n",
    "    '''\n",
    "    Returns the discrete Hamiltonian of the mean-field problem.\n",
    "    '''\n",
    "    return 1/beta * (neg(p1)**2 + pos(p2)**2)**(beta/2) / (c0 + c1*mu)**alpha\n",
    "\n",
    "def Htilde_p1(p1, p2, mu, beta, c0, c1, alpha):\n",
    "    '''\n",
    "    Returns the derivative wrt p1 of the discrete Hamiltonian of the mean-field problem.\n",
    "    '''\n",
    "    return -neg(p1) * (neg(p1)**2 + pos(p2)**2)**(beta/2 - 1) / (c0 + c1*mu)**alpha\n",
    "\n",
    "def Htilde_p2(p1, p2, mu, beta, c0, c1, alpha):\n",
    "    '''\n",
    "    Returns the derivative wrt p2 of the discrete Hamiltonian of the mean-field problem.\n",
    "    '''\n",
    "    return pos(p2) * (neg(p1)**2 + pos(p2)**2)**(beta/2 - 1) / (c0 + c1*mu)**alpha\n",
    "\n",
    "def Gtilde(p1, p2, mu, beta, c0, c1, alpha):\n",
    "    '''\n",
    "    Returns the additionnal term in the HJB equation in case of a mean-field control.\n",
    "    '''\n",
    "    return -c1*alpha*mu/(c0 + c1*mu) * Htilde(p1, p2, mu, beta, c0, c1, alpha)"
   ]
  },
  {
   "cell_type": "code",
   "execution_count": null,
   "metadata": {},
   "outputs": [],
   "source": [
    "def discrete_transport_mat(W, M, Nh, h, beta, c0, c1, alpha):\n",
    "    '''\n",
    "    Returns the matrix of the discrete transport (linear) operator M -> T(U^n, M, Tilde M).\n",
    "    '''\n",
    "    res     = np.zeros((Nh, Nh))\n",
    "    gamma   = Htilde_p1((W[2:] - W[1:-1])/h, (W[1:-1] - W[:-2])/h, M, beta, c0, c1, alpha)/h\n",
    "    epsilon = Htilde_p2((W[2:] - W[1:-1])/h, (W[1:-1] - W[:-2])/h, M, beta, c0, c1, alpha)/h\n",
    "    np.fill_diagonal(res, gamma - epsilon)\n",
    "    np.fill_diagonal(res[1:, :], -gamma[:-1])\n",
    "    np.fill_diagonal(res[:, 1:], epsilon[1:])\n",
    "    return res\n",
    "\n",
    "def D2M_mat(Nh, h, v):\n",
    "    res = np.zeros((Nh, Nh))\n",
    "    np.fill_diagonal(res, 2*v/h**2)\n",
    "    np.fill_diagonal(res[1:, :], -v/h**2)\n",
    "    np.fill_diagonal(res[:, 1:], -v/h**2)\n",
    "    return res"
   ]
  },
  {
   "cell_type": "code",
   "execution_count": null,
   "metadata": {},
   "outputs": [],
   "source": [
    "def newton(U, M, dt, h, v, x, beta, c0, c1, alpha, f0tilde, f0tilde_prime, crit_newt, SPARSE, MF_TYPE):\n",
    "    '''\n",
    "    Newton method to solve HJB at timestep $n$.\n",
    "    Returns hat U^{n, (k+1)} given hat U{n+1, (k+1)} and M^{n+1, (k)}. \n",
    "    '''\n",
    "    Nh = len(x)\n",
    "    def F(W):\n",
    "        Dt      = (U - W[1:-1])/dt\n",
    "        D1      = (W[2:] - W[1:-1])/h\n",
    "        D2      = (W[1:-1] - W[:-2])/h\n",
    "        Laplace = -(2*W[1:-1] - W[2:] - W[:-2])/h**2\n",
    "        res     = -Dt - v*Laplace + Htilde(D1, D2, M, beta, c0, c1, alpha) - g(x) - f0tilde(M)\n",
    "        if MF_TYPE == 'CONTROL':\n",
    "            res += Gtilde(D1, D2, M, beta, c0, c1, alpha) - M*f0tilde_prime(M)\n",
    "        return res\n",
    "    \n",
    "    def J(W):\n",
    "        # Jacobian of F; notice that the Jacobian matrix of $\\Tilde H$ is the matrix of the discrete transport operator\n",
    "        disc_transp = discrete_transport_mat(W, M, Nh, h, beta, c0, c1, alpha)\n",
    "        res         = np.eye(Nh)/dt +  D2M_mat(Nh, h, v) - disc_transp.T\n",
    "        if MF_TYPE == 'CONTROL':\n",
    "            res += c1*alpha*M/(c0 + c1*M) * disc_transp.T\n",
    "        return res\n",
    "    \n",
    "    V, Vold = U.copy(), np.repeat(np.inf, len(U))\n",
    "    k = 0\n",
    "    while (np.linalg.norm(V-Vold)>crit_newt):\n",
    "        Vold    = V.copy()\n",
    "        W       = np.concatenate(([U[0]], V, [U[-1]]))\n",
    "        delta_V = spsolve(csr_matrix(J(W)), F(W)) if SPARSE else np.linalg.solve(J(W), F(W))\n",
    "        V      -= delta_V\n",
    "        k      += 1\n",
    "        if k >= 30:\n",
    "            print(f'Warning : There may be CV issue in Newton method - nb of current iterations = {k}.')\n",
    "    if k == 1:\n",
    "        print('Warning : Newton method converged in 1 iteration.')\n",
    "    \n",
    "    return V"
   ]
  },
  {
   "cell_type": "code",
   "execution_count": null,
   "metadata": {},
   "outputs": [],
   "source": [
    "def HJB_solver(M, dt, h, v, x, beta, c0, c1, alpha, f0tilde, f0tilde_prime, crit_newt, SPARSE, PRINT, MF_TYPE):\n",
    "    '''\n",
    "    Solves HJB with backward iteration.\n",
    "    '''\n",
    "    U           = np.zeros_like(M)\n",
    "    U[-1, :]    = phi(x)\n",
    "    Nt          = U.shape[0]-1\n",
    "    for n in tqdm(range(Nt-1, -1, -1), desc=\"Processing HJB solver\", disable=not PRINT):\n",
    "        U[n, :] = newton(U[n+1, :], M[n+1, :], dt, h, v, x, beta, c0, c1, alpha, f0tilde, f0tilde_prime, crit_newt, SPARSE, MF_TYPE)\n",
    "\n",
    "    return U\n",
    "\n",
    "def KFP_solver(U, M, dt, h, v, x, beta, c0, c1, alpha, SPARSE, PRINT):\n",
    "    '''\n",
    "    Solves KFP with forward iteration.\n",
    "    '''\n",
    "    M_new       = np.zeros_like(M)\n",
    "    M_new[0, :] = m0_bar(x)\n",
    "    Nh          = len(x)\n",
    "    Nt          = U.shape[0]-1\n",
    "\n",
    "    def system_mat(W, M):\n",
    "        # Matrix of the implicit scheme\n",
    "        return np.eye(Nh) + dt * (D2M_mat(Nh, h, v) - discrete_transport_mat(W, M, Nh, h, beta, c0, c1, alpha))\n",
    "\n",
    "    for n in tqdm(range(Nt), desc=\"Processing KFP solver\", disable=not PRINT):\n",
    "        W               = np.concatenate(([U[n, 0]], U[n, :], [U[n, -1]]))\n",
    "        M_new[n+1, :]   = spsolve(csr_matrix(system_mat(W, M[n+1, :])), M_new[n, :]) if SPARSE else np.linalg.solve(system_mat(W, M[n+1, :]), M_new[n, :])\n",
    "        # Due to numerical approximations, the density can be negative but very close to zero. We set it to zero in that case.\n",
    "        M_new[n+1, :][M_new[n+1, :]<0 & (M_new[n, :]>-10**(-10))] = 0\n",
    "        if np.sum(M_new[n+1, :]) - np.sum(M_new[n, :]) >= 10**(-10):\n",
    "            # The mass should be conserved\n",
    "            print(f'Warning : sum_i M_i^(n+1) = {np.sum(M_new[n+1, :])} != {np.sum(M_new[n, :])}')\n",
    "        if np.any(M_new[n+1, :]<0):\n",
    "            print(f'Error : Negative density detected at {np.sum(M_new[n+1, :]<0)} points.')\n",
    "            print(M_new[n+1, :][M_new[n+1, :]<0])\n",
    "            raise ValueError('Negative density detected.')\n",
    "    return M_new"
   ]
  },
  {
   "cell_type": "code",
   "execution_count": null,
   "metadata": {},
   "outputs": [],
   "source": [
    "def MF_solver(sigma, beta, c0, c1, alpha, T, Nt, Nh, theta, f0tilde, f0tilde_prime, crit_fixpoint, crit_newt, SPARSE, PRINT_SOLVER, PRINT_INC, MF_TYPE):\n",
    "    '''\n",
    "    Solves the mean-field game or control problem with a fixed-point algorithm.\n",
    "    '''\n",
    "    if MF_TYPE == 'CONTROL' and f0tilde_prime is None:\n",
    "        raise ValueError('f0tilde_prime must be provided for MF_TYPE = CONTROL.')\n",
    "    if MF_TYPE != 'CONTROL' and MF_TYPE != 'GAME':\n",
    "        raise ValueError('MF_TYPE must be either CONTROL or GAME.')\n",
    "    v, h, dt        = sigma**2/2, 1/(Nh-1), T/Nt\n",
    "    x               = np.arange(0, Nh)*h\n",
    "    M               = np.tile(m0_bar(x), (Nt+1, 1))\n",
    "    U               = np.tile(phi(x), (Nt+1, 1))\n",
    "    X               = np.column_stack((U, M))\n",
    "    X_old           = np.full_like(X, np.inf)   \n",
    "    k               = 0    \n",
    "    while np.linalg.norm(X-X_old)/X.size > crit_fixpoint:\n",
    "        X_old       = X.copy() \n",
    "        X[:, :Nh]   = HJB_solver(X[:, Nh:], dt, h, v, x, beta, c0, c1, alpha, f0tilde, f0tilde_prime, crit_newt, SPARSE, PRINT_SOLVER, MF_TYPE)\n",
    "        X[:, Nh:]   = KFP_solver(X[:, :Nh], X[:, Nh:], dt, h, v, x, beta, c0, c1, alpha, SPARSE, PRINT_SOLVER)\n",
    "        X           = theta*X + (1-theta)*X_old\n",
    "        k += 1\n",
    "        if (k <= 5 or k%10 == 0) and PRINT_INC:\n",
    "            print(f\"MFG solver, iteration {k}, increment = {(np.linalg.norm(X-X_old)/X.size):.2e}\")\n",
    "    return X"
   ]
  },
  {
   "cell_type": "markdown",
   "metadata": {},
   "source": [
    "## <span style=\"color:#00B8DE\">II - Mean Field Game Results </span>"
   ]
  },
  {
   "cell_type": "code",
   "execution_count": null,
   "metadata": {},
   "outputs": [],
   "source": [
    "f0tilde1    = lambda m: m/10\n",
    "f0tilde2    = lambda m: 0\n",
    "f0tilde2_p  = lambda m: 0\n",
    "\n",
    "sets_params = {\n",
    "    'beta'      : {'A': 2,          'B': 2,         'C': 2,         'D': 2,         'E': 2,         'F': 2,         'G': 2          },\n",
    "    'c0'        : {'A': 0.1,        'B': 0.1,       'C': 0.01,      'D': 0.01,      'E': 1,         'F': 0.1,       'G': 0.1        },\n",
    "    'c1'        : {'A': 1,          'B': 5,         'C': 2,         'D': 2,         'E': 3,         'F': 1,         'G': 1          },    \n",
    "    'alpha'     : {'A': 0.5,        'B': 1,         'C': 1.2,       'D': 1.5,       'E': 2,         'F': 0.5,       'G': 0.5        },\n",
    "    'sigma'     : {'A': 0.02,       'B': 0.02,      'C': 0.1,       'D': 0.2,       'E': 0.002,     'F': 0.02,      'G': 0.02       },\n",
    "    'f0tilde'   : {'A': f0tilde1,   'B': f0tilde1,  'C': f0tilde1,  'D': f0tilde1,  'E': f0tilde1,  'F': f0tilde2,  'G': f0tilde2   },\n",
    "    'f0tilde_p' : {'A': None,       'B': None,      'C': None,      'D': None,      'E': None,      'F': None,      'G': f0tilde2_p },\n",
    "    'type'      : {'A': 'GAME',     'B': 'GAME',    'C': 'GAME',    'D': 'GAME',    'E': 'GAME',    'F': 'GAME',    'G': 'CONTROL'  }\n",
    "}\n",
    "theta                           = 0.02    \n",
    "crit_newt, crit_fixpoint        = 10**(-12), 10**(-7)\n",
    "T, Nt, Nh                       = 1, 100, 201\n",
    "SPARSE, PRINT_SOLVER, PRINT_INC = True, False, False"
   ]
  },
  {
   "cell_type": "code",
   "execution_count": null,
   "metadata": {},
   "outputs": [],
   "source": [
    "'''\n",
    "sets = ['A', 'B', 'C', 'D', 'E', 'F']\n",
    "for s in sets:\n",
    "    print(f\"Processing set {s}...\")\n",
    "    MF_res  = MF_solver(sets_params['sigma'][s], sets_params['beta'][s], sets_params['c0'][s], sets_params['c1'][s], sets_params['alpha'][s], T, Nt, Nh, theta, sets_params['f0tilde'][s], sets_params['f0tilde_p'][s], crit_fixpoint, crit_newt, SPARSE, PRINT_SOLVER, PRINT_INC, sets_params['type'][s])\n",
    "    np.savetxt(f\"results/MF_res_{s}.csv\", MF_res, delimiter=\",\")\n",
    "    video   = evolution_video(MF_res, T, Nt, Nh)\n",
    "    video.save(f\"results/MF_res_{s}.mp4\")\n",
    "    fig = contour_plot(MF_res, T, Nt, Nh)\n",
    "    plt.savefig(f'results/MF_res_{s}.png', bbox_inches='tight', dpi=300)\n",
    "    print(f\"Set {s} processed.\")\n",
    "'''"
   ]
  },
  {
   "cell_type": "code",
   "execution_count": null,
   "metadata": {},
   "outputs": [],
   "source": [
    "MF_res = np.loadtxt(\"results/MF_res_F.csv\", delimiter=\",\")\n",
    "fig = contour_plot(MF_res, T, Nt, Nh)\n",
    "plt.show()"
   ]
  },
  {
   "cell_type": "code",
   "execution_count": null,
   "metadata": {},
   "outputs": [],
   "source": [
    "video = evolution_video(MF_res, T, Nt, Nh)\n",
    "HTML(video.to_jshtml())"
   ]
  },
  {
   "cell_type": "markdown",
   "metadata": {},
   "source": [
    "## <span style=\"color:#00B8DE\">III - Mean Field Control Results </span>"
   ]
  },
  {
   "cell_type": "code",
   "execution_count": null,
   "metadata": {},
   "outputs": [],
   "source": [
    "'''\n",
    "set_    = 'G'\n",
    "# Here, we set theta = 0.009 and crit_fixpoint = 8*10**(-6) due to convergence difficulties.\n",
    "MF_res  = MF_solver(sets_params['sigma'][set_], sets_params['beta'][set_], sets_params['c0'][set_], sets_params['c1'][set_], sets_params['alpha'][set_], T, Nt, Nh, 0.009, sets_params['f0tilde'][set_], sets_params['f0tilde_p'][set_], 8*10**(-6), crit_newt, SPARSE, False, True, sets_params['type'][set_])\n",
    "np.savetxt(f\"results/MF_res_{set_}.csv\", MF_res, delimiter=\",\")\n",
    "video   = evolution_video(MF_res, T, Nt, Nh)\n",
    "video.save(f\"results/MF_res_{set_}.mp4\")\n",
    "'''"
   ]
  },
  {
   "cell_type": "code",
   "execution_count": null,
   "metadata": {},
   "outputs": [],
   "source": [
    "MF_res = np.loadtxt(\"results/MF_res_G.csv\", delimiter=\",\")\n",
    "fig = contour_plot(MF_res, T, Nt, Nh)\n",
    "plt.show()"
   ]
  },
  {
   "cell_type": "code",
   "execution_count": null,
   "metadata": {},
   "outputs": [],
   "source": [
    "video = evolution_video(MF_res, T, Nt, Nh)\n",
    "HTML(video.to_jshtml())"
   ]
  }
 ],
 "metadata": {
  "kernelspec": {
   "display_name": "Python 3",
   "language": "python",
   "name": "python3"
  },
  "language_info": {
   "codemirror_mode": {
    "name": "ipython",
    "version": 3
   },
   "file_extension": ".py",
   "mimetype": "text/x-python",
   "name": "python",
   "nbconvert_exporter": "python",
   "pygments_lexer": "ipython3",
   "version": "3.12.4"
  }
 },
 "nbformat": 4,
 "nbformat_minor": 2
}
